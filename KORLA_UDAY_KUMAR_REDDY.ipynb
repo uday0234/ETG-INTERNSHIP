{
  "nbformat": 4,
  "nbformat_minor": 0,
  "metadata": {
    "colab": {
      "name": "KORLA UDAY KUMAR REDDY.ipynb",
      "provenance": [],
      "collapsed_sections": []
    },
    "kernelspec": {
      "name": "python3",
      "display_name": "Python 3"
    },
    "language_info": {
      "name": "python"
    }
  },
  "cells": [
    {
      "cell_type": "code",
      "metadata": {
        "id": "zbKeu1iBnBvc"
      },
      "source": [
        "fd = open('machine.txt','r')\n",
        "txt = fd.read()\n",
        "fd.close()"
      ],
      "execution_count": 298,
      "outputs": []
    },
    {
      "cell_type": "code",
      "metadata": {
        "colab": {
          "base_uri": "https://localhost:8080/",
          "height": 244
        },
        "id": "hdDw9Xmvnlgg",
        "outputId": "6c6bd5ac-870f-41f6-fced-8ea2c86a4d47"
      },
      "source": [
        "str(txt)"
      ],
      "execution_count": 299,
      "outputs": [
        {
          "output_type": "execute_result",
          "data": {
            "application/vnd.google.colaboratory.intrinsic+json": {
              "type": "string"
            },
            "text/plain": [
              "'101,Five Star,Chocolate,2023,5,5000,\\n102,BAR ONE,Chocolate,2023,10,5000,\\n103,DAIRY MILK,Chocolate,2024,15,5000,\\n104,Munch,Chocolate,2023,5,5000,\\n105,Perk,Chocolate,2023,10,5000,\\n106,Green mango,Chocolate,2023,5,5000,\\n107,kit kat,Chocolate,2023,15,5000,\\n108,candy,Chocolate,2023,5,5000,\\n109,black pen,stationery,2023,5,5000,\\n110,blue pen,stationery,2023,5,5000,\\n111,red pen,stationery,2023,5,5000,\\n112,green pen,stationery,2023,5,5000,\\n113,marker,stationery,2023,15,5000,\\n114,scale,stationery,2023,5,5000,\\n115,sharpner,stationery,2023,3,5000,\\n116,eraser,stationery,2023,3,5000,\\n117,pencil,stationery,2023,2,5000,\\n118,paper folder,stationery,2023,25,5000,\\n119,short book,stationery,2029,15,5000,\\n120,long book,stationery,2028,35,5000,\\n121,tooth paste,grocery,2023,55,5000,\\n122,tooth brush,grocery,2026,5,5000,\\n123,face wash,grocery,2023,75,5000,\\n124,mouth wash,grocery,2024,15,5000,\\n125,tissues,grocery,2028,41,5000,\\n126,bath soap,grocery,2022,46,5000,\\n127,detergent,grocery,2023,75,5000,\\n128,hair oil,grocery,2022,15,5000,\\n129,shampoo,grocery,2023,35,5000,\\n130,dettol,grocery,2024,25,5000'"
            ]
          },
          "metadata": {},
          "execution_count": 299
        }
      ]
    },
    {
      "cell_type": "code",
      "metadata": {
        "colab": {
          "base_uri": "https://localhost:8080/",
          "height": 244
        },
        "id": "kHu3lfGlontW",
        "outputId": "f2d4358a-2605-4707-a771-06892536386d"
      },
      "source": [
        "txt"
      ],
      "execution_count": 300,
      "outputs": [
        {
          "output_type": "execute_result",
          "data": {
            "application/vnd.google.colaboratory.intrinsic+json": {
              "type": "string"
            },
            "text/plain": [
              "'101,Five Star,Chocolate,2023,5,5000,\\n102,BAR ONE,Chocolate,2023,10,5000,\\n103,DAIRY MILK,Chocolate,2024,15,5000,\\n104,Munch,Chocolate,2023,5,5000,\\n105,Perk,Chocolate,2023,10,5000,\\n106,Green mango,Chocolate,2023,5,5000,\\n107,kit kat,Chocolate,2023,15,5000,\\n108,candy,Chocolate,2023,5,5000,\\n109,black pen,stationery,2023,5,5000,\\n110,blue pen,stationery,2023,5,5000,\\n111,red pen,stationery,2023,5,5000,\\n112,green pen,stationery,2023,5,5000,\\n113,marker,stationery,2023,15,5000,\\n114,scale,stationery,2023,5,5000,\\n115,sharpner,stationery,2023,3,5000,\\n116,eraser,stationery,2023,3,5000,\\n117,pencil,stationery,2023,2,5000,\\n118,paper folder,stationery,2023,25,5000,\\n119,short book,stationery,2029,15,5000,\\n120,long book,stationery,2028,35,5000,\\n121,tooth paste,grocery,2023,55,5000,\\n122,tooth brush,grocery,2026,5,5000,\\n123,face wash,grocery,2023,75,5000,\\n124,mouth wash,grocery,2024,15,5000,\\n125,tissues,grocery,2028,41,5000,\\n126,bath soap,grocery,2022,46,5000,\\n127,detergent,grocery,2023,75,5000,\\n128,hair oil,grocery,2022,15,5000,\\n129,shampoo,grocery,2023,35,5000,\\n130,dettol,grocery,2024,25,5000'"
            ]
          },
          "metadata": {},
          "execution_count": 300
        }
      ]
    },
    {
      "cell_type": "code",
      "metadata": {
        "id": "GY88jv9lsYZ9"
      },
      "source": [
        "items = txt.split(\"|n\")"
      ],
      "execution_count": 301,
      "outputs": []
    },
    {
      "cell_type": "code",
      "metadata": {
        "colab": {
          "base_uri": "https://localhost:8080/"
        },
        "id": "ub6NA1cHsiRd",
        "outputId": "dcfa6d2d-f97a-498f-a74b-49323fa9c26a"
      },
      "source": [
        "items"
      ],
      "execution_count": 302,
      "outputs": [
        {
          "output_type": "execute_result",
          "data": {
            "text/plain": [
              "['101,Five Star,Chocolate,2023,5,5000,\\n102,BAR ONE,Chocolate,2023,10,5000,\\n103,DAIRY MILK,Chocolate,2024,15,5000,\\n104,Munch,Chocolate,2023,5,5000,\\n105,Perk,Chocolate,2023,10,5000,\\n106,Green mango,Chocolate,2023,5,5000,\\n107,kit kat,Chocolate,2023,15,5000,\\n108,candy,Chocolate,2023,5,5000,\\n109,black pen,stationery,2023,5,5000,\\n110,blue pen,stationery,2023,5,5000,\\n111,red pen,stationery,2023,5,5000,\\n112,green pen,stationery,2023,5,5000,\\n113,marker,stationery,2023,15,5000,\\n114,scale,stationery,2023,5,5000,\\n115,sharpner,stationery,2023,3,5000,\\n116,eraser,stationery,2023,3,5000,\\n117,pencil,stationery,2023,2,5000,\\n118,paper folder,stationery,2023,25,5000,\\n119,short book,stationery,2029,15,5000,\\n120,long book,stationery,2028,35,5000,\\n121,tooth paste,grocery,2023,55,5000,\\n122,tooth brush,grocery,2026,5,5000,\\n123,face wash,grocery,2023,75,5000,\\n124,mouth wash,grocery,2024,15,5000,\\n125,tissues,grocery,2028,41,5000,\\n126,bath soap,grocery,2022,46,5000,\\n127,detergent,grocery,2023,75,5000,\\n128,hair oil,grocery,2022,15,5000,\\n129,shampoo,grocery,2023,35,5000,\\n130,dettol,grocery,2024,25,5000']"
            ]
          },
          "metadata": {},
          "execution_count": 302
        }
      ]
    },
    {
      "cell_type": "code",
      "metadata": {
        "colab": {
          "base_uri": "https://localhost:8080/"
        },
        "id": "bZBwdsE5smyd",
        "outputId": "dc6c645f-1e00-41e7-d1ca-c3b4e83465a1"
      },
      "source": [
        "item_code = str(input(\"enter the item code: \"))\n",
        "quant = input(\"enter the quantity: \")\n",
        "\n",
        "for product in items:\n",
        "    prod = product.split(\",\")\n",
        "\n",
        "if (item_code == prod[0]):\n",
        "   print(\"item code: \",prod[0])\n",
        "   print(\"name: \",prod[1])\n",
        "   print(\"category: \",prod[2])\n",
        "   print(\"expire year: \",prod[3])\n",
        "   print(\"cost: \",prod[4])\n",
        "   print(\"quantity available:\",prod[5])\n",
        "   print(\"**********************************\")\n",
        "\n",
        "   print(\"Bill Amount: \",int(prod[4])*int(quant))\n",
        "\n",
        "   print(\"**********************************\")\n",
        "   \n",
        "\n",
        "\n",
        "\n",
        " "
      ],
      "execution_count": 303,
      "outputs": [
        {
          "output_type": "stream",
          "name": "stdout",
          "text": [
            "enter the item code: 101\n",
            "enter the quantity: 5\n",
            "item code:  101\n",
            "name:  Five Star\n",
            "category:  Chocolate\n",
            "expire year:  2023\n",
            "cost:  5\n",
            "quantity available: 5000\n",
            "**********************************\n",
            "Bill Amount:  25\n",
            "**********************************\n"
          ]
        }
      ]
    },
    {
      "cell_type": "code",
      "metadata": {
        "colab": {
          "base_uri": "https://localhost:8080/"
        },
        "id": "JHruzJyhJhfk",
        "outputId": "032ccf73-aecf-46cd-d581-bf2d4b0fdabe"
      },
      "source": [
        "int(prod[5])- int(quant)"
      ],
      "execution_count": 304,
      "outputs": [
        {
          "output_type": "execute_result",
          "data": {
            "text/plain": [
              "4995"
            ]
          },
          "metadata": {},
          "execution_count": 304
        }
      ]
    },
    {
      "cell_type": "code",
      "metadata": {
        "id": "xG_-PRl0MVhb"
      },
      "source": [
        "new_data = []\n",
        "\n",
        "for product in items:\n",
        "  prod = product.split(\",\")\n",
        "\n",
        "if(item_code == prod[0]):\n",
        "    prod[5] = str(int(prod[5])- int(quant))\n",
        "\n",
        "    new_data.append(prod[0] + \",\" + prod[1] + \",\" + prod[2] + \",\"+ prod[3] + \",\" + prod[4] + \",\" + prod[5] + \"|n\")\n",
        "\n",
        "    new_data[-1] = new_data[-1][-1]"
      ],
      "execution_count": 296,
      "outputs": []
    },
    {
      "cell_type": "code",
      "metadata": {
        "id": "mfwVNm9gN5mj"
      },
      "source": [
        "fd = open(\"machine.txt\",'w')\n",
        "\n",
        "for i in new_data:\n",
        " fd.write(i)\n",
        "\n",
        "fd.close()"
      ],
      "execution_count": 297,
      "outputs": []
    }
  ]
}